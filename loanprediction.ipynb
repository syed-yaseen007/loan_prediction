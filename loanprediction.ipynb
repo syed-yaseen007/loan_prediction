{
 "cells": [
  {
   "cell_type": "code",
   "execution_count": null,
   "id": "cae2f75b",
   "metadata": {},
   "outputs": [],
   "source": [
    "import pandas as pd\n",
    "import numpy as np\n",
    "import seaborn as sns\n",
    "import matplotlib.pyplot as plt\n",
    "\n",
    "from sklearn import preprocessing\n",
    "from sklearn.model_selection import train_test_split\n",
    "from sklearn.linear_model import LogisticRegression\n",
    "\n",
    "from sklearn.model_selection import cross_val_score"
   ]
  },
  {
   "cell_type": "code",
   "execution_count": null,
   "id": "856098c8",
   "metadata": {},
   "outputs": [],
   "source": [
    "df = pd.read_csv(\"dataset/train.csv\")"
   ]
  },
  {
   "cell_type": "code",
   "execution_count": null,
   "id": "099385c7",
   "metadata": {},
   "outputs": [],
   "source": [
    "df.head()"
   ]
  },
  {
   "cell_type": "code",
   "execution_count": null,
   "id": "53405d7d",
   "metadata": {},
   "outputs": [],
   "source": [
    "# Drop the Loan_ID column as it is of no use for model.\n",
    "data = df.drop(columns=[\"Loan_ID\"])"
   ]
  },
  {
   "cell_type": "code",
   "execution_count": null,
   "id": "90537ebc",
   "metadata": {},
   "outputs": [],
   "source": [
    "data.info()"
   ]
  },
  {
   "cell_type": "code",
   "execution_count": null,
   "id": "a0a78380",
   "metadata": {},
   "outputs": [],
   "source": [
    "data.columns"
   ]
  },
  {
   "cell_type": "code",
   "execution_count": null,
   "id": "bce9790a",
   "metadata": {},
   "outputs": [],
   "source": [
    "categorical_data = [i for i in data.columns if data[i].dtype==\"object\"]\n",
    "categorical_data"
   ]
  },
  {
   "cell_type": "code",
   "execution_count": null,
   "id": "a1c353a5",
   "metadata": {},
   "outputs": [],
   "source": [
    "numerical_data = [i for i in data.columns if data[i].dtype!=\"object\"]\n",
    "numerical_data"
   ]
  },
  {
   "cell_type": "code",
   "execution_count": null,
   "id": "0a97a1d8",
   "metadata": {},
   "outputs": [],
   "source": [
    "discrete_numerical_data = [i for i in numerical_data if len(data[i].unique())<16]\n",
    "discrete_numerical_data"
   ]
  },
  {
   "cell_type": "code",
   "execution_count": null,
   "id": "bef5daac",
   "metadata": {},
   "outputs": [],
   "source": [
    "continuous_numerical_data = [i for i in numerical_data if len(data[i].unique())>=16]\n",
    "continuous_numerical_data"
   ]
  },
  {
   "cell_type": "markdown",
   "id": "5100f760",
   "metadata": {},
   "source": [
    "Data Visualisation"
   ]
  },
  {
   "cell_type": "code",
   "execution_count": null,
   "id": "57c9e96e",
   "metadata": {},
   "outputs": [],
   "source": [
    "# For Categotical Data.\n",
    "for i in categorical_data:\n",
    "    data[i].value_counts().plot(kind=\"bar\")\n",
    "    plt.xlabel(i)\n",
    "    plt.ylabel(\"Counts\")\n",
    "    plt.show()"
   ]
  },
  {
   "cell_type": "code",
   "execution_count": null,
   "id": "ee751396",
   "metadata": {},
   "outputs": [],
   "source": [
    "# For Discrete Numerical Data\n",
    "for i in discrete_numerical_data:\n",
    "    data[i].value_counts().plot(kind=\"bar\")\n",
    "    plt.xlabel(i)\n",
    "    plt.ylabel(\"Counts\")\n",
    "    plt.show()"
   ]
  },
  {
   "cell_type": "code",
   "execution_count": null,
   "id": "db0cdf70",
   "metadata": {},
   "outputs": [],
   "source": [
    "# For Continuous Numerical Data\n",
    "for i in continuous_numerical_data:\n",
    "    sns.histplot(data[i])\n",
    "    plt.xlabel(i+\" Distribution\")\n",
    "    plt.show()"
   ]
  },
  {
   "cell_type": "code",
   "execution_count": null,
   "id": "b752e37d",
   "metadata": {},
   "outputs": [],
   "source": [
    "# Check for outliers(Since the above distribution graphs are skewed, hence outliers are present\n",
    "for i in continuous_numerical_data:\n",
    "    sns.boxplot(data = data, y=i)\n",
    "    plt.show()"
   ]
  },
  {
   "cell_type": "code",
   "execution_count": null,
   "id": "6b7e69f2",
   "metadata": {},
   "outputs": [],
   "source": [
    "# From the above box plot we can know that outliers are present, hence we need to handle missing values by replacing with median value."
   ]
  },
  {
   "cell_type": "markdown",
   "id": "1007c1f2",
   "metadata": {},
   "source": [
    "Handling Missing Values"
   ]
  },
  {
   "cell_type": "code",
   "execution_count": null,
   "id": "18ecc27d",
   "metadata": {},
   "outputs": [],
   "source": [
    "sns.heatmap(data.isnull(), cbar=False)"
   ]
  },
  {
   "cell_type": "code",
   "execution_count": null,
   "id": "3293aaba",
   "metadata": {},
   "outputs": [],
   "source": [
    "# Since there are null values in categorical values and discrete numerical values, so we replace them with mode of that feature.\n",
    "for i in categorical_data+discrete_numerical_data:\n",
    "    data[i] = data[i].fillna(data[i].mode().iloc[0])"
   ]
  },
  {
   "cell_type": "code",
   "execution_count": null,
   "id": "e4b50e45",
   "metadata": {},
   "outputs": [],
   "source": [
    "# Now We replace the loan amount column from numerical category.\n",
    "data[\"LoanAmount\"] = data[\"LoanAmount\"].fillna(data[\"LoanAmount\"].median())"
   ]
  },
  {
   "cell_type": "code",
   "execution_count": null,
   "id": "c5e69d24",
   "metadata": {},
   "outputs": [],
   "source": [
    "# Correlation Matrix (numeric columns only)\n",
    "data.select_dtypes(include=[np.number]).corr()"
   ]
  },
  {
   "cell_type": "code",
   "execution_count": null,
   "id": "e63f7606",
   "metadata": {},
   "outputs": [],
   "source": [
    "sns.heatmap(data.select_dtypes(include=[np.number]).corr(), annot=True, cmap='coolwarm')"
   ]
  },
  {
   "cell_type": "markdown",
   "id": "0b02f39b",
   "metadata": {},
   "source": [
    "Feature Engineering"
   ]
  },
  {
   "cell_type": "code",
   "execution_count": null,
   "id": "2a9f0c0c",
   "metadata": {},
   "outputs": [],
   "source": [
    "# We will encode the categorical data using label Encoder.\n",
    "le = preprocessing.LabelEncoder()\n",
    "\n",
    "for i in categorical_data:\n",
    "    data[i] = le.fit_transform(data[i])"
   ]
  },
  {
   "cell_type": "code",
   "execution_count": null,
   "id": "0a3f8fc9",
   "metadata": {},
   "outputs": [],
   "source": [
    "data.head()"
   ]
  },
  {
   "cell_type": "code",
   "execution_count": null,
   "id": "b2fcb601",
   "metadata": {},
   "outputs": [],
   "source": [
    "data.tail()"
   ]
  },
  {
   "cell_type": "code",
   "execution_count": null,
   "id": "f602a130",
   "metadata": {},
   "outputs": [],
   "source": [
    "# If we want to apply log transformation for all the numerical variables, then majority of CoapplicantIncome values are 0.\n",
    "# Hence we will create a new variable called TotalIncome = ApplicantIncome + CoapplicantIncome.\n",
    "\n",
    "data[\"TotalIncome\"] = data[\"ApplicantIncome\"]+data[\"CoapplicantIncome\"]"
   ]
  },
  {
   "cell_type": "code",
   "execution_count": null,
   "id": "18c5faaa",
   "metadata": {},
   "outputs": [],
   "source": [
    "data.drop([\"ApplicantIncome\",\"CoapplicantIncome\"],axis=1,inplace=True)"
   ]
  },
  {
   "cell_type": "code",
   "execution_count": null,
   "id": "3d6ec5a8",
   "metadata": {},
   "outputs": [],
   "source": [
    "continuous_numerical_data"
   ]
  },
  {
   "cell_type": "code",
   "execution_count": null,
   "id": "016db953",
   "metadata": {},
   "outputs": [],
   "source": [
    "['ApplicantIncome', 'CoapplicantIncome', 'LoanAmount']"
   ]
  },
  {
   "cell_type": "code",
   "execution_count": null,
   "id": "609ca80c",
   "metadata": {},
   "outputs": [],
   "source": [
    "continuous_numerical_data.remove(\"ApplicantIncome\")\n",
    "continuous_numerical_data.remove(\"CoapplicantIncome\")\n",
    "continuous_numerical_data.append(\"TotalIncome\")"
   ]
  },
  {
   "cell_type": "code",
   "execution_count": null,
   "id": "064f992d",
   "metadata": {},
   "outputs": [],
   "source": [
    "continuous_numerical_data"
   ]
  },
  {
   "cell_type": "code",
   "execution_count": null,
   "id": "798e120e",
   "metadata": {},
   "outputs": [],
   "source": [
    "# Log Transformation\n",
    "for i in continuous_numerical_data+[\"Loan_Amount_Term\"]:\n",
    "    data[i] = np.log(data[i])"
   ]
  },
  {
   "cell_type": "code",
   "execution_count": null,
   "id": "6f629560",
   "metadata": {},
   "outputs": [],
   "source": [
    "data.head()"
   ]
  },
  {
   "cell_type": "markdown",
   "id": "0f7b9454",
   "metadata": {},
   "source": [
    "Model Building"
   ]
  },
  {
   "cell_type": "code",
   "execution_count": null,
   "id": "bf244839",
   "metadata": {},
   "outputs": [],
   "source": [
    "# Splitting the data"
   ]
  },
  {
   "cell_type": "code",
   "execution_count": null,
   "id": "6d8a3332",
   "metadata": {},
   "outputs": [],
   "source": [
    "X,y = data.drop(columns = \"Loan_Status\"),data[\"Loan_Status\"]"
   ]
  },
  {
   "cell_type": "code",
   "execution_count": null,
   "id": "05228c16",
   "metadata": {},
   "outputs": [],
   "source": [
    "X_train, X_test, y_train, y_test = train_test_split(X, y, test_size=0.33, random_state=42)"
   ]
  },
  {
   "cell_type": "code",
   "execution_count": null,
   "id": "355f5fbc",
   "metadata": {},
   "outputs": [],
   "source": [
    "# Logistic Regression\n",
    "model = LogisticRegression()"
   ]
  },
  {
   "cell_type": "code",
   "execution_count": null,
   "id": "d58fd68c",
   "metadata": {},
   "outputs": [],
   "source": [
    "model.fit(X_train,y_train)"
   ]
  },
  {
   "cell_type": "code",
   "execution_count": null,
   "id": "94211658",
   "metadata": {},
   "outputs": [],
   "source": [
    "print(\"Accuracy of Logistic Regression Model is \",model.score(X_test,y_test)*100)"
   ]
  },
  {
   "cell_type": "code",
   "execution_count": null,
   "id": "15952d29",
   "metadata": {},
   "outputs": [],
   "source": [
    "score = cross_val_score(model, X, y, cv=5)\n",
    "print(\"Cross validation is\",np.mean(score)*100)"
   ]
  },
  {
   "cell_type": "code",
   "execution_count": null,
   "id": "b29c8593",
   "metadata": {},
   "outputs": [],
   "source": [
    "# import pickle\n",
    "# # open a file, where you want to store the data\n",
    "# file = open('model.pkl', 'wb')\n",
    "\n",
    "# # dump information to that file\n",
    "# pickle.dump(model, file)"
   ]
  }
 ],
 "metadata": {
  "kernelspec": {
   "display_name": ".venv",
   "language": "python",
   "name": "python3"
  },
  "language_info": {
   "codemirror_mode": {
    "name": "ipython",
    "version": 3
   },
   "file_extension": ".py",
   "mimetype": "text/x-python",
   "name": "python",
   "nbconvert_exporter": "python",
   "pygments_lexer": "ipython3",
   "version": "3.13.7"
  }
 },
 "nbformat": 4,
 "nbformat_minor": 5
}
